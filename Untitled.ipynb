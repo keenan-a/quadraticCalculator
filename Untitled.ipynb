{
 "cells": [
  {
   "cell_type": "code",
   "execution_count": 29,
   "metadata": {},
   "outputs": [],
   "source": [
    "import math as m\n",
    "#split problem\n",
    "# first we check if there are any solutions to the equation\n",
    "# x = (-b+/- root delta)/2a\n",
    "\n",
    "def main():\n",
    "    a = int(input(\"Please provide value for 'a' for your quadratic equation\"))\n",
    "    b = int(input(\"Please provide value for 'b' for your quadratic equation\"))\n",
    "    c = int(input(\"Please provide value for 'c' for your quadratic equation\"))\n",
    "    \n",
    "    delta = m.pow(b,2)-(4*a*c)\n",
    "    print(delta) \n",
    "    \n",
    "    if delta < 0:\n",
    "        print(\"This is a Complex Number, cannot be solved by my jahash head\")\n",
    "    else:\n",
    "        root1 = ((-b) + m.sqrt(delta))/(2*a)\n",
    "        root2 = ((-b) - m.sqrt(delta))/(2*a)\n",
    "        print(\"This is the first quadratic root\" + str(root1))\n",
    "        print(\"This is the second quadratic root\" + str(root2))\n",
    "        print(\"Bravo ya jahash\")\n",
    "    \n",
    "    "
   ]
  },
  {
   "cell_type": "code",
   "execution_count": 30,
   "metadata": {},
   "outputs": [
    {
     "name": "stdout",
     "output_type": "stream",
     "text": [
      "Please provide value for 'a' for your quadratic equation1\n",
      "Please provide value for 'b' for your quadratic equation2\n",
      "Please provide value for 'c' for your quadratic equation1\n",
      "0.0\n",
      "This is the first quadratic root-1.0\n",
      "This is the second quadratic root-1.0\n",
      "Bravo ya jahash\n"
     ]
    }
   ],
   "source": [
    "# Run Program\n",
    "main()"
   ]
  },
  {
   "cell_type": "code",
   "execution_count": null,
   "metadata": {},
   "outputs": [],
   "source": []
  },
  {
   "cell_type": "code",
   "execution_count": null,
   "metadata": {},
   "outputs": [],
   "source": []
  }
 ],
 "metadata": {
  "kernelspec": {
   "display_name": "Python 3",
   "language": "python",
   "name": "python3"
  },
  "language_info": {
   "codemirror_mode": {
    "name": "ipython",
    "version": 3
   },
   "file_extension": ".py",
   "mimetype": "text/x-python",
   "name": "python",
   "nbconvert_exporter": "python",
   "pygments_lexer": "ipython3",
   "version": "3.7.3"
  }
 },
 "nbformat": 4,
 "nbformat_minor": 2
}
